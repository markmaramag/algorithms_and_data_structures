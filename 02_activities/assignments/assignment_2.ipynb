{
 "cells": [
  {
   "cell_type": "markdown",
   "metadata": {},
   "source": [
    "# Practice Interview\n",
    "\n",
    "## Objective\n",
    "\n",
    "_*The partner assignment aims to provide participants with the opportunity to practice coding in an interview context. You will analyze your partner's Assignment 1. Moreover, code reviews are common practice in a software development team. This assignment should give you a taste of the code review process.*_\n",
    "\n",
    "## Group Size\n",
    "\n",
    "Each group should have 2 people. You will be assigned a partner\n",
    "\n",
    "## Part 1:\n",
    "\n",
    "You and your partner must share each other's Assignment 1 submission."
   ]
  },
  {
   "cell_type": "markdown",
   "metadata": {},
   "source": [
    "Partner's assignment 1, answering Question One: Check Duplicates in Tree https://github.com/carryonm/algorithms_and_data_structures/pulls"
   ]
  },
  {
   "cell_type": "markdown",
   "metadata": {},
   "source": [
    "\n",
    "## Part 2:\n",
    "\n",
    "Create a Jupyter Notebook, create 6 of the following headings, and complete the following for your partner's assignment 1:\n",
    "\n",
    "-   Paraphrase the problem in your own words.\n"
   ]
  },
  {
   "cell_type": "markdown",
   "metadata": {},
   "source": [
    "You are given a tree structure called a binary tree, where each circle (called a node) contains a number. The task is to check if any of the numbers in the tree are repeated. If there are repeated numbers, you need to return the value of the first duplicate you find as you move level by level from the top to the bottom of the tree. If there are no duplicates, the answer should be -1.\n",
    "\n",
    "A binary tree starts with one number at the top (the root). Each number (or node) can have up to two children (left and right branches).\n",
    "\n",
    "To check, you examine the tree level by level (this method is called Breadth-First Search (BFS)). You start with the number at the top, then move to the next row (or level), checking each number for duplicates as you go.\n",
    "\n",
    "If a number appears more than once, you pick the duplicate that is closest to the top of the tree (the smallest level). If no numbers are repeated, you return -1.\n",
    "\n",
    "- Example 1:\n",
    "In the first tree, the number 2 appears twice on the second level. Since it's the first duplicate you encounter while moving down the tree, the result is 2.\n",
    "- Example 2:\n",
    "In the second tree, the number 10 appears twice at the second level. Since it's the closest duplicate to the top, the result is 10.\n",
    "- Example 3:\n",
    "In the third tree, all the numbers are unique. So, there are no duplicates, and the result is -1.\n",
    "\n",
    "The solution needs to find the first repeated number in a tree, with a focus on checking each level one by one, starting from the root."
   ]
  },
  {
   "cell_type": "markdown",
   "metadata": {},
   "source": [
    "\n",
    "-   Create 1 new example that demonstrates you understand the problem. Trace/walkthrough 1 example that your partner made and explain it.\n"
   ]
  },
  {
   "cell_type": "markdown",
   "metadata": {},
   "source": [
    "        4\n",
    "       / \\\n",
    "      5   6\n",
    "     / \\\n",
    "    7   5\n",
    "        \n",
    "Input: root = [4, 5, 6, 7, 5]\n",
    "Output: 5"
   ]
  },
  {
   "cell_type": "markdown",
   "metadata": {},
   "source": [
    "As we traverse level by level (using Breadth-First Search):\n",
    "\n",
    "- Start with the root node 4. Add it to the \"checked\" set.\n",
    "- Move to the next level: nodes 5 and 6. Add both to the \"checked\" set.\n",
    "- Move to the next level: nodes 7 and 5. When we encounter the second 5, we notice it's already in the \"checked\" set.\n",
    "- Since 5 is the first duplicate encountered, we return 5 as the result."
   ]
  },
  {
   "cell_type": "markdown",
   "metadata": {},
   "source": [
    "My partner's example:\n",
    "\n",
    "Input: root = [1, 3, 5, 3, 5, 6, 7] Output: 3"
   ]
  },
  {
   "cell_type": "markdown",
   "metadata": {},
   "source": [
    "        1\n",
    "       / \\\n",
    "      3   5\n",
    "     / \\\n",
    "    3   5\n",
    "   / \\\n",
    "  6   7"
   ]
  },
  {
   "cell_type": "markdown",
   "metadata": {},
   "source": [
    "Walkthrough:\n",
    "1. Start at the root node (level 0):\n",
    "    - The root node is 1.\n",
    "    - Add 1 to the \"checked\" set: checked = {1}.\n",
    "    - Proceed to the next level.\n",
    "2. Move to level 1 (nodes: 3, 5):\n",
    "    - First, check node 3:\n",
    "        - 3 is not in the \"checked\" set, so add it: checked = {1, 3}.\n",
    "    - Next, check node 5:\n",
    "        - 5 is not in the \"checked\" set, so add it: checked = {1, 3, 5}.\n",
    "    - Proceed to the next level.\n",
    "3. Move to level 2 (nodes: 3, 5):\n",
    "    - First, check node 3:\n",
    "        - 3 is already in the \"checked\" set, so it is a duplicate.\n",
    "        \n",
    "Since we’ve found the first duplicate (3), we stop the traversal and return 3 as the result.\n"
   ]
  },
  {
   "cell_type": "markdown",
   "metadata": {},
   "source": [
    "\n",
    "-   Copy the solution your partner wrote. \n"
   ]
  },
  {
   "cell_type": "code",
   "execution_count": 1,
   "metadata": {},
   "outputs": [
    {
     "name": "stdout",
     "output_type": "stream",
     "text": [
      "3\n",
      "2\n"
     ]
    }
   ],
   "source": [
    "# Your answer \n",
    "from collections import deque\n",
    "\n",
    "class Node:\n",
    "    def __init__(self, val=0, left=None, right=None):\n",
    "        self.val = val\n",
    "        self.left = left\n",
    "        self.right = right\n",
    "\n",
    "def bfs_recursive(queue, seen):\n",
    "    if not queue:\n",
    "        return -1  # if the queue(updated queue) is empty, no duplicates is found\n",
    "    \n",
    "    # Process the first node in the queue\n",
    "    current_vertex = queue[0]\n",
    "    \n",
    "    # Check if the current vertex's value has been seen before\n",
    "    if current_vertex.val in seen:\n",
    "        return current_vertex.val  # Return the duplicate value\n",
    "    \n",
    "    # Add the current vertex's value to the seen set\n",
    "    seen.add(current_vertex.val)\n",
    "    \n",
    "    #if there are next levels/child nodes from the current_vertex, get the nodes from the next level of the tree\n",
    "    next_level = []\n",
    "    if current_vertex.left:\n",
    "        next_level.append(current_vertex.left)\n",
    "    if current_vertex.right:\n",
    "        next_level.append(current_vertex.right)\n",
    "    \n",
    "    #update the queue by removing the first element and add the next level child nodes of the previously first elements\n",
    "    return bfs_recursive(queue[1:] + next_level, seen) \n",
    "\n",
    "def find_duplicate(root):\n",
    "    #check if the tree is empty or has only 1 node, then there's no chance of duplication\n",
    "    if not root or (not root.left and not root.right):\n",
    "        return \"tree size invalid for the problem\"\n",
    "    \n",
    "    #start with a queue with the root as the 1st element (= node top level) and an empty set for tracking seen values\n",
    "    initial_queue = [root]\n",
    "    seen = set()\n",
    "    return bfs_recursive(initial_queue, seen)\n",
    "\n",
    "\n",
    "#Example 1 and 2: as constructed in previous questions\n",
    "#New example 1: input: root = [1, 3, 5, 3, 5, 6, 7] (BFS traversal method); ouput: 3;\n",
    "root1 = Node(1)\n",
    "root1.left = Node(3) #duplicate\n",
    "root1.right = Node(5)\n",
    "root1.left.left = Node(3) #duplicate\n",
    "root1.left.right = Node(5)\n",
    "root1.right.left = Node(6)\n",
    "root1.right.right = Node(7)\n",
    "\n",
    "#New example 2: input: root = [2, 3, 2, 4, 5, 6, 7] (BFS traversal method); ouput: 2;\n",
    "root2 = Node(2) #duplicate\n",
    "root2.left = Node(3)\n",
    "root2.right = Node(2) #duplicate\n",
    "root2.left.left = Node(4)\n",
    "root2.left.right = Node(5)\n",
    "root2.right.left = Node(6)\n",
    "root2.right.right = Node(7)\n",
    "\n",
    "# Testing the function\n",
    "print(find_duplicate(root1)) \n",
    "print(find_duplicate(root2)) "
   ]
  },
  {
   "cell_type": "markdown",
   "metadata": {},
   "source": [
    "\n",
    "-   Explain why their solution works in your own words.\n"
   ]
  },
  {
   "cell_type": "markdown",
   "metadata": {},
   "source": [
    "This code works by systematically checking a binary tree for duplicate numbers, starting from the top (the root) and moving level by level. It uses a method called Breadth-First Search (BFS), which processes the tree row by row, ensuring that if a duplicate exists, the one closest to the root is found first.\n",
    "\n",
    "To keep track of the nodes we’ve already checked, the code uses a list called a queue and a \"seen\" set to store numbers we’ve seen before. The process begins with the root node, and its value is added to the set. Then, the code moves to the next row of nodes (left to right), checking each value. If a value is already in the set, it means the value is a duplicate, and the code stops and returns that value. If not, the value is added to the set, and the child nodes are added to the queue to be checked later.\n",
    "\n",
    "The recursive part of the code ensures this process continues smoothly. It takes the current list of nodes to check (the queue) and processes one node at a time. If no duplicates are found after going through the entire tree, the code returns -1.\n",
    "\n",
    "In short, this code efficiently finds duplicates by working level by level and stopping as soon as a duplicate is found. It’s like scanning a family tree row by row, recording each name, and stopping as soon as you see a repeated name. This ensures the closest duplicate to the top is always returned."
   ]
  },
  {
   "cell_type": "markdown",
   "metadata": {},
   "source": [
    "\n",
    "-   Explain the problem’s time and space complexity in your own words.\n"
   ]
  },
  {
   "cell_type": "markdown",
   "metadata": {},
   "source": [
    "The problem's time complexity is determined by the fact that we visit each node in the tree once. For every node, we check its value and add it to the \"seen\" set or the queue. Since there are N nodes in the tree, the time it takes to process all of them is proportional to N. So, the time complexity is O(N), meaning it grows linearly with the size of the tree.\n",
    "\n",
    "The space complexity depends on the size of the queue and the \"seen\" set. The queue holds nodes from the widest part of the tree (usually the bottom level), and the \"seen\" set stores the values of all nodes we’ve checked so far. In the worst case, both the queue and the \"seen\" set could grow to include every node, which means the space needed is also proportional to N. Therefore, the space complexity is O(N) as well.\n",
    "\n",
    "In simple terms, the time and space needed grow directly with the number of nodes in the tree."
   ]
  },
  {
   "cell_type": "markdown",
   "metadata": {},
   "source": [
    "\n",
    "-   Critique your partner's solution, including explanation, and if there is anything that should be adjusted.\n"
   ]
  },
  {
   "cell_type": "markdown",
   "metadata": {},
   "source": [
    "My partner's solution is strong and logically sound. It effectively uses Breadth-First Search (BFS) to traverse the tree level by level and efficiently identifies duplicates by tracking values in a set. The recursive approach is easy to follow and ensures the first duplicate closest to the root is returned. The solution also handles edge cases like empty or single-node trees, making it robust for most scenarios.\n",
    "\n",
    "There are some things that could be improved. Since the solution uses recursion, it might run into problems with very large trees because Python has a limit on how many times a function can call itself. Maybe by changing the code to use a loop and a queue instead of recursion would make it work better for bigger trees. Also, the error message for invalid inputs could be made easier to understand, like saying \"Tree is too small or empty to contain duplicates\" instead of the current message. This would make the code clearer and more user-friendly."
   ]
  },
  {
   "cell_type": "markdown",
   "metadata": {},
   "source": [
    "\n",
    "## Part 3:\n",
    "\n",
    "Please write a 200 word reflection documenting your process from assignment 1, and your presentation and review experience with your partner at the bottom of the Jupyter Notebook under a new heading \"Reflection.\" Again, export this Notebook as pdf.\n"
   ]
  },
  {
   "cell_type": "markdown",
   "metadata": {},
   "source": [
    "### Reflection"
   ]
  },
  {
   "cell_type": "markdown",
   "metadata": {},
   "source": [
    "Working through the \"Missing Number in Range\" problem has been both challenging and rewarding. The process involved understanding the problem requirements, devising a solution, and ensuring its correctness through thorough testing. The task required careful attention to edge cases, such as handling an empty list or ensuring the output format met the requirements. Exploring time and space complexity helped solidify my understanding of how the solution scales with larger inputs. It was satisfying to create a robust, efficient solution while adhering to the problem's constraints.\n",
    "\n",
    "One valuable aspect was exploring alternative approaches. This deepened my understanding of problem-solving and showed the trade-offs between simplicity and efficiency. It was a rewarding process to develop a working solution while balancing clarity and performance.\n",
    "\n",
    "Reviewing my partner's work was an enlightening experience. It gave me the opportunity to see how someone else approached the problem, offering a different perspective on coding style and logic. By analyzing their solution, I could identify strengths, such as their focus on efficiency and edge case handling, and suggest improvements, like enhancing clarity or refining the logic for specific scenarios.\n",
    "\n",
    "Overall, this experience deepened my understanding of the problem and strengthened my ability to analyze, optimize, and present solutions effectively.\n"
   ]
  },
  {
   "cell_type": "markdown",
   "metadata": {},
   "source": [
    "\n",
    "## Evaluation Criteria\n",
    "\n",
    "We are looking for the similar points as Assignment 1\n",
    "\n",
    "-   Problem is accurately stated\n",
    "\n",
    "-   New example is correct and easily understandable\n",
    "\n",
    "-   Correctness, time, and space complexity of the coding solution\n",
    "\n",
    "-   Clarity in explaining why the solution works, its time and space complexity\n",
    "\n",
    "-   Quality of critique of your partner's assignment, if necessary\n"
   ]
  },
  {
   "cell_type": "markdown",
   "metadata": {},
   "source": [
    "## Submission Information\n",
    "\n",
    "🚨 **Please review our [Assignment Submission Guide](https://github.com/UofT-DSI/onboarding/blob/main/onboarding_documents/submissions.md)** 🚨 for detailed instructions on how to format, branch, and submit your work. Following these guidelines is crucial for your submissions to be evaluated correctly.\n",
    "\n",
    "### Submission Parameters:\n",
    "* Submission Due Date: `HH:MM AM/PM - DD/MM/YYYY`\n",
    "* The branch name for your repo should be: `assignment-2`\n",
    "* What to submit for this assignment:\n",
    "    * This Jupyter Notebook (assignment_2.ipynb) should be populated and should be the only change in your pull request.\n",
    "* What the pull request link should look like for this assignment: `https://github.com/<your_github_username>/algorithms_and_data_structures/pull/<pr_id>`\n",
    "    * Open a private window in your browser. Copy and paste the link to your pull request into the address bar. Make sure you can see your pull request properly. This helps the technical facilitator and learning support staff review your submission easily.\n",
    "\n",
    "Checklist:\n",
    "- [ ] Created a branch with the correct naming convention.\n",
    "- [ ] Ensured that the repository is public.\n",
    "- [ ] Reviewed the PR description guidelines and adhered to them.\n",
    "- [ ] Verify that the link is accessible in a private browser window.\n",
    "\n",
    "If you encounter any difficulties or have questions, please don't hesitate to reach out to our team via our Slack at `#cohort-3-help`. Our Technical Facilitators and Learning Support staff are here to help you navigate any challenges.\n"
   ]
  }
 ],
 "metadata": {
  "kernelspec": {
   "display_name": "dsi_participant",
   "language": "python",
   "name": "python3"
  },
  "language_info": {
   "codemirror_mode": {
    "name": "ipython",
    "version": 3
   },
   "file_extension": ".py",
   "mimetype": "text/x-python",
   "name": "python",
   "nbconvert_exporter": "python",
   "pygments_lexer": "ipython3",
   "version": "3.9.15"
  }
 },
 "nbformat": 4,
 "nbformat_minor": 2
}
