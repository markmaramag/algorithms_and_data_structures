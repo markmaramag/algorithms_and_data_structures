{
 "cells": [
  {
   "cell_type": "markdown",
   "metadata": {},
   "source": [
    "# Coding Problems\n",
    "\n",
    "## Objective\n",
    "\n",
    "This assignment aims to demonstrate how to study a data structures or algorithms question in depth to prepare for an industry coding interview. Leetcode is a popular coding practice site that many use to practice for technical interviews. Like behavioral interviews, it's important to practice and keep your skills sharp.\n",
    "\n",
    "## Group Size\n",
    "\n",
    "Please complete this individually.\n",
    "\n",
    "## Part 1:\n",
    "\n",
    "_*You will be assigned one of three problems based of your first name. Execute the code below, and that will tell you your assigned problem. Include the output as part of your submission (do not clear the output). The problems are based-off problems from Leetcode.*_\n"
   ]
  },
  {
   "cell_type": "code",
   "execution_count": 5,
   "metadata": {},
   "outputs": [
    {
     "name": "stdout",
     "output_type": "stream",
     "text": [
      "3\n"
     ]
    }
   ],
   "source": [
    "print((hash('Mark') % 3) + 1)"
   ]
  },
  {
   "cell_type": "markdown",
   "metadata": {},
   "source": [
    "<details>\n",
    "  <summary>Question 1</summary>\n",
    "\n",
    "  # Question One: Check Duplicates in Tree\n",
    "\n",
    "  Given the `root` of a binary tree, check whether it is contains a duplicate value. If a duplicate exists, return the duplicate value. If there are multiple duplicates, return the one with the closest distance to the root. If no duplicate exists, return -1.\n",
    "\n",
    "  ## Examples\n",
    "\n",
    "  ### Example 1\n",
    "\n",
    "  ![](./images/q1_ex1.png)\n",
    "\n",
    "  Input: `root = [1, 2, 2, 3, 5, 6, 7]` *What traversal method is this?*\n",
    "\n",
    "  Output: 2\n",
    "\n",
    "  ### Example 2\n",
    "\n",
    "  ![](./images/q1_ex2.png)\n",
    "\n",
    "  Input: `root = [1, 10, 2, 3, 10, 12, 12]`\n",
    "\n",
    "  Output: 10\n",
    "\n",
    "  ### Example 3\n",
    "\n",
    "  ![](./images/q1_ex3.png)\n",
    "\n",
    "  Input: `root = [10, 9, 8, 7]`\n",
    "\n",
    "  Output: -1\n",
    "\n",
    "</details>\n",
    "\n",
    "#### Starter Code for Question 1"
   ]
  },
  {
   "cell_type": "code",
   "execution_count": null,
   "metadata": {},
   "outputs": [],
   "source": [
    "# Definition for a binary tree node.\n",
    "# class TreeNode(object):\n",
    "#     def __init__(self, val = 0, left = None, right = None):\n",
    "#         self.val = val\n",
    "#         self.left = left\n",
    "#         self.right = right\n",
    "def is_duplicate(root: TreeNode) -> int:\n",
    "  # TODO"
   ]
  },
  {
   "cell_type": "markdown",
   "metadata": {},
   "source": [
    "<details>\n",
    "  <summary>Question 2</summary>\n",
    "\n",
    "  # Question Two: Path to Leaves\n",
    "\n",
    "  Given the `root` of a binary tree, return all root to leaf paths in any order.\n",
    "\n",
    "  ## Examples\n",
    "\n",
    "  ### Example 1\n",
    "\n",
    "  ![](./images/q1_ex1.png)\n",
    "\n",
    "  Input: `root = [1, 2, 2, 3, 5, 6, 7]` *What traversal method is this?*\n",
    "\n",
    "  Output: [[1, 2, 3], [1, 2, 5], [1, 2, 6], [1, 2, 7]]\n",
    "\n",
    "  ### Example 2\n",
    "\n",
    "  ![](./images/q1_ex3.png)\n",
    "\n",
    "  Input: `root = [10, 9, 7, 8]`\n",
    "\n",
    "  Output: [[10, 7], [10, 9, 8]]\n",
    "\n",
    "</details>\n",
    "\n",
    "#### Starter Code for Question 2"
   ]
  },
  {
   "cell_type": "code",
   "execution_count": null,
   "metadata": {},
   "outputs": [],
   "source": [
    "# Definition for a binary tree node.\n",
    "# class TreeNode(object):\n",
    "#     def __init__(self, val = 0, left = None, right = None):\n",
    "#         self.val = val\n",
    "#         self.left = left\n",
    "#         self.right = right\n",
    "def bt_path(root: TreeNode) -> List[List[int]]:\n",
    "  # TODO"
   ]
  },
  {
   "cell_type": "markdown",
   "metadata": {},
   "source": [
    "<details>\n",
    "  <summary>Question 3</summary>\n",
    "\n",
    "  # Question Three: Missing Number in Range\n",
    " \n",
    "  You are given a list containing `n` integers in the range `[0, n]`. Return a list of numbers that are missing from the range `[0, n]` of the array. If there is no missing number, return -1. Note, all the integers in the list may not be unique.\n",
    "  \n",
    "  ## Examples\n",
    "\n",
    "  ### Example 1\n",
    "\n",
    "  Input: `lst = [0, 2]`\n",
    "\n",
    "  Output: [1]\n",
    "\n",
    "  ### Example 2\n",
    "\n",
    "  Input: `lst = [5, 0, 1]`\n",
    "\n",
    "  Output: [2, 3, 4]\n",
    "\n",
    "  ### Example 3\n",
    "\n",
    "  Input: `lst = [6, 8, 2, 3, 5, 7, 0, 1, 10]`\n",
    "\n",
    "  Output: [4, 9]\n",
    "\n",
    "</details>\n",
    "\n",
    "#### Starter Code for Question 3\n"
   ]
  },
  {
   "cell_type": "code",
   "execution_count": null,
   "metadata": {},
   "outputs": [],
   "source": [
    "def missing_num(nums: List) -> int:\n",
    "  # TODO"
   ]
  },
  {
   "cell_type": "markdown",
   "metadata": {},
   "source": [
    "\n",
    "## Part 2:\n",
    "\n",
    "-   Paraphrase the problem in your own words\n"
   ]
  },
  {
   "cell_type": "markdown",
   "metadata": {},
   "source": [
    "\n",
    "The problem is to find any numbers that are missing from a list.\n",
    "\n",
    "You’re given a list with some numbers, but you know that the complete range should include all numbers from 0 up to a certain maximum, n. Your task is to identify any numbers that aren’t in the list but should be there if we had all the numbers from 0 to n without gaps. If no numbers are missing, you should return -1. The list might contain duplicates, but that doesn’t affect what numbers are missing.\n",
    "\n",
    "For example:\n",
    "\n",
    "- If the list is [0, 2], then the number 1 is missing.\n",
    "- If the list is [5, 0, 1], the numbers 2, 3, and 4 are missing.\n",
    "- If the list is [6, 8, 2, 3, 5, 7, 0, 1, 10], the numbers 4 and 9 are missing.\n",
    "\n"
   ]
  },
  {
   "cell_type": "markdown",
   "metadata": {},
   "source": [
    "- In this .ipynb file, there are examples that illustrate how the code should work (the examples provided above). Create 2 new examples for the question you have been assigned, that demonstrate you understand the problem. For question 1 and 2, you don't need to create the tree demonstration, just the input and output.\n"
   ]
  },
  {
   "cell_type": "markdown",
   "metadata": {},
   "source": [
    "Example 4\n",
    "Input: lst = [1, 2, 4, 5]\n",
    "\n",
    "Output: [0, 3]\n",
    "\n",
    "Explanation: The range is [0, 5], and the numbers 0 and 3 are missing from the list.\n",
    "\n",
    "Example 5\n",
    "Input: lst = [0, 1, 2, 3, 4]\n",
    "\n",
    "Output: [-1]\n",
    "\n",
    "Explanation: The range is [0, 4], and no numbers are missing, so the output is -1."
   ]
  },
  {
   "cell_type": "markdown",
   "metadata": {},
   "source": [
    "\n",
    "-   Code the solution to your assigned problem in Python (code chunk). Try to find the best time and space complexity solution!\n"
   ]
  },
  {
   "cell_type": "code",
   "execution_count": 9,
   "metadata": {},
   "outputs": [],
   "source": [
    "# Your answer here\n",
    "\n",
    "from typing import List\n",
    "\n",
    "def missing_num(nums: List[int]) -> List[int]:\n",
    "    # Check if the list is empty\n",
    "    if not nums:\n",
    "        return [-1]\n",
    "    \n",
    "    # Determine the maximum number in the list to define the range correctly\n",
    "    max_num = max(nums)\n",
    "    # Create a set of all numbers in the range [0, max_num]\n",
    "    full_set = set(range(max_num + 1))\n",
    "    # Create a set from the list to remove duplicates\n",
    "    nums_set = set(nums)\n",
    "    # Find the difference between the full set and the nums set\n",
    "    missing_numbers = list(full_set - nums_set)\n",
    "    # Sort the result to maintain numerical order\n",
    "    missing_numbers.sort()\n",
    "    \n",
    "    # If there are no missing numbers, return -1\n",
    "    return missing_numbers if missing_numbers else [-1]\n",
    "\n"
   ]
  },
  {
   "cell_type": "code",
   "execution_count": 10,
   "metadata": {},
   "outputs": [
    {
     "name": "stdout",
     "output_type": "stream",
     "text": [
      "[2, 3, 4]\n"
     ]
    }
   ],
   "source": [
    "print(missing_num([5, 0, 1]))  \n",
    "# Expected output: [2, 3, 4]\n"
   ]
  },
  {
   "cell_type": "code",
   "execution_count": 11,
   "metadata": {},
   "outputs": [
    {
     "name": "stdout",
     "output_type": "stream",
     "text": [
      "[-1]\n"
     ]
    }
   ],
   "source": [
    "print(missing_num([0, 1, 2, 3, 4]))  \n",
    "# Expected output: [-1]"
   ]
  },
  {
   "cell_type": "code",
   "execution_count": 12,
   "metadata": {},
   "outputs": [
    {
     "name": "stdout",
     "output_type": "stream",
     "text": [
      "[4, 9]\n"
     ]
    }
   ],
   "source": [
    "print(missing_num([6, 8, 2, 3, 5, 7, 0, 1, 10]))  \n",
    "# Expected output: [4, 9]"
   ]
  },
  {
   "cell_type": "code",
   "execution_count": 13,
   "metadata": {},
   "outputs": [
    {
     "name": "stdout",
     "output_type": "stream",
     "text": [
      "[1]\n"
     ]
    }
   ],
   "source": [
    "print(missing_num([0, 2]))        \n",
    "# Expected output: [1]\n"
   ]
  },
  {
   "cell_type": "code",
   "execution_count": 6,
   "metadata": {},
   "outputs": [
    {
     "name": "stdout",
     "output_type": "stream",
     "text": [
      "[0, 3]\n"
     ]
    }
   ],
   "source": [
    "print(missing_num([1, 2, 4, 5]))  \n",
    "# Expected output: [0, 3]"
   ]
  },
  {
   "cell_type": "code",
   "execution_count": null,
   "metadata": {},
   "outputs": [
    {
     "name": "stdout",
     "output_type": "stream",
     "text": [
      "[-1]\n"
     ]
    }
   ],
   "source": [
    "print(missing_num([]))  \n",
    "# Expected output: [-1]"
   ]
  },
  {
   "cell_type": "code",
   "execution_count": null,
   "metadata": {},
   "outputs": [
    {
     "name": "stdout",
     "output_type": "stream",
     "text": [
      "[0, 3, 4]\n"
     ]
    }
   ],
   "source": [
    "print(missing_num([1, 2, 2, 5]))  \n",
    "# Expected output: [0, 3, 4]"
   ]
  },
  {
   "cell_type": "markdown",
   "metadata": {},
   "source": [
    "\n",
    "-   Explain why your solution works\n"
   ]
  },
  {
   "cell_type": "markdown",
   "metadata": {},
   "source": [
    "\n",
    "This solution finds missing numbers in a list by comparing it to the full range of numbers that should be present. First, it figures out the largest number in the list to define the range of numbers we're interested in, starting from zero up to that maximum. It then uses sets to identify which numbers are present in the list and which ones are missing. By calculating the difference between the full set of numbers (from 0 to the maximum) and the numbers that are actually in the list, the function identifies any gaps.\n",
    "\n",
    "After identifying the missing numbers, it sorts them to keep the list in numerical order, which is often more readable. If there are no missing numbers, it returns [-1] to indicate that the list is complete. This approach is efficient because sets allow for quick comparison, and the solution handles edge cases, such as an empty list or when all numbers are present."
   ]
  },
  {
   "cell_type": "markdown",
   "metadata": {},
   "source": [
    "\n",
    "-   Explain the problem’s time and space complexity\n"
   ]
  },
  {
   "cell_type": "markdown",
   "metadata": {},
   "source": [
    "Time Complexity\n",
    "1. Finding the largest number in the list: O(n).\n",
    "2. Creating the range and converting it to a set: O(n).\n",
    "3. Creating a set from the input list: O(n).\n",
    "4. Finding the set difference: O(n).\n",
    "5.  Sorting the missing numbers: O(n log n).\n",
    "\n",
    "The sorting step dominates the total, so the overall time complexity is: O(n log n).\n",
    "\n",
    "Space Complexity\n",
    "1.  The full set of numbers: O(n).\n",
    "2. The input list as a set: O(n).\n",
    "3.  The list of missing numbers: O(n).\n",
    "\n",
    "Adding these together, the overall space complexity is: O(n).\n",
    "\n",
    "This solution is efficient, with sorting being the most time-consuming step and memory usage proportional to the size of the input list."
   ]
  },
  {
   "cell_type": "markdown",
   "metadata": {},
   "source": [
    "\n",
    "The time complexity of this solution refers to how long the program takes to run as the size of the input list grows. First, the program finds the largest number in the list (max_num) to figure out the range of numbers we’re working with. This takes time proportional to the size of the list because the program has to look at every number to find the largest one.\n",
    "\n",
    "Next, the program creates a list of all numbers from 0 to max_num and converts it into a set. This helps the program quickly figure out which numbers are missing by comparing it to another set made from the input list. These steps are efficient because creating a set is quick, and comparing sets is faster than comparing lists. Sorting the missing numbers at the end takes a little more time, especially if there are many missing numbers, since sorting grows more complex as the size of the list increases.\n",
    "\n",
    "The space complexity refers to how much memory the program needs to run. The program creates a set for the full range of numbers and another set for the numbers in the input list. It also creates a list for the missing numbers. Each of these takes up memory proportional to the size of the list, so the memory usage grows as the input gets larger. Overall, this solution is efficient in both time and memory usage for most practical cases, as it handles large inputs without unnecessary slowdowns or excessive memory use."
   ]
  },
  {
   "cell_type": "markdown",
   "metadata": {},
   "source": []
  },
  {
   "cell_type": "markdown",
   "metadata": {},
   "source": [
    "\n",
    "-   Explain the thinking to an alternative solution (no coding required, but a classmate reading this should be able to code it up based off your text)\n"
   ]
  },
  {
   "cell_type": "markdown",
   "metadata": {},
   "source": [
    "We can think of the numbers list as a range of numbers where some may be missing. To find out which ones are missing, we’ll use a checklist to keep track of which numbers from 0 up to the largest number are present in the list.\n",
    "\n",
    "First, we find the biggest number in the list. This tells us the range of numbers that should ideally be there, from 0 up to that biggest number. Then, we create a checklist with spots for every number in this range. Each spot on the checklist starts as “unchecked,” meaning we haven’t seen that number in the list yet.\n",
    "\n",
    "Next, we go through the list of numbers and, for each number we see, we mark its spot on the checklist as “checked”. So, if the list is [0, 2, 4], we would check off 0, 2, and 4 on our checklist. By the end of this step, any numbers we’ve seen in the list will be marked as “checked,” and any numbers that are missing will still be “unchecked.”\n",
    "\n",
    "Finally, we look at the checklist to see which spots are still unchecked—these spots represent the missing numbers. If every spot on the checklist has been checked off, it means all numbers in the range are present, so we return [-1] to indicate nothing’s missing. This approach keeps things simple by focusing on tracking what’s present or missing in a straightforward, checklist-like manner."
   ]
  },
  {
   "cell_type": "markdown",
   "metadata": {},
   "source": [
    "## Evaluation Criteria\n",
    "\n",
    "-   Problem is accurately stated\n",
    "\n",
    "-   Two examples are correct and easily understandable\n",
    "\n",
    "-   Correctness, time, and space complexity of the coding solution\n",
    "\n",
    "-   Clarity in explaining why the solution works, its time and space complexity\n",
    "\n",
    "-   Clarity in the proposal to the alternative solution"
   ]
  },
  {
   "cell_type": "markdown",
   "metadata": {},
   "source": [
    "## Submission Information\n",
    "\n",
    "🚨 **Please review our [Assignment Submission Guide](https://github.com/UofT-DSI/onboarding/blob/main/onboarding_documents/submissions.md)** 🚨 for detailed instructions on how to format, branch, and submit your work. Following these guidelines is crucial for your submissions to be evaluated correctly.\n",
    "\n",
    "### Submission Parameters:\n",
    "* Submission Due Date: `HH:MM AM/PM - DD/MM/YYYY`\n",
    "* The branch name for your repo should be: `assignment-1`\n",
    "* What to submit for this assignment:\n",
    "    * This Jupyter Notebook (assignment_1.ipynb) should be populated and should be the only change in your pull request.\n",
    "* What the pull request link should look like for this assignment: `https://github.com/<your_github_username>/algorithms_and_data_structures/pull/<pr_id>`\n",
    "    * Open a private window in your browser. Copy and paste the link to your pull request into the address bar. Make sure you can see your pull request properly. This helps the technical facilitator and learning support staff review your submission easily.\n",
    "\n",
    "Checklist:\n",
    "- [ ] Create a branch called `assignment-1`.\n",
    "- [ ] Ensure that the repository is public.\n",
    "- [ ] Review [the PR description guidelines](https://github.com/UofT-DSI/onboarding/blob/main/onboarding_documents/submissions.md#guidelines-for-pull-request-descriptions) and adhere to them.\n",
    "- [ ] Verify that the link is accessible in a private browser window.\n",
    "\n",
    "If you encounter any difficulties or have questions, please don't hesitate to reach out to our team via our Slack at `#cohort-3-help`. Our Technical Facilitators and Learning Support staff are here to help you navigate any challenges."
   ]
  }
 ],
 "metadata": {
  "kernelspec": {
   "display_name": "dsi_participant",
   "language": "python",
   "name": "python3"
  },
  "language_info": {
   "codemirror_mode": {
    "name": "ipython",
    "version": 3
   },
   "file_extension": ".py",
   "mimetype": "text/x-python",
   "name": "python",
   "nbconvert_exporter": "python",
   "pygments_lexer": "ipython3",
   "version": "3.9.15"
  }
 },
 "nbformat": 4,
 "nbformat_minor": 2
}
